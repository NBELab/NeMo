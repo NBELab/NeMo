{
  "nbformat": 4,
  "nbformat_minor": 0,
  "metadata": {
    "colab": {
      "provenance": [],
      "authorship_tag": "ABX9TyPTbBqIWmNKcxzdeuu2Zsk1",
      "include_colab_link": true
    },
    "kernelspec": {
      "name": "python3",
      "display_name": "Python 3"
    },
    "language_info": {
      "name": "python"
    }
  },
  "cells": [
    {
      "cell_type": "markdown",
      "metadata": {
        "id": "view-in-github",
        "colab_type": "text"
      },
      "source": [
        "<a href=\"https://colab.research.google.com/github/NBELab/NeMo/blob/main/tutorials/Many_neurons.ipynb\" target=\"_parent\"><img src=\"https://colab.research.google.com/assets/colab-badge.svg\" alt=\"Open In Colab\"/></a>"
      ]
    },
    {
      "cell_type": "markdown",
      "source": [
        "# **Many neurons**"
      ],
      "metadata": {
        "id": "nKvAHnCgBy5D"
      }
    },
    {
      "cell_type": "markdown",
      "source": [
        "This demo shows how to construct and manipulate a population of neurons.\n",
        "\n",
        "These are 100 leaky integrate-and-fire (LIF) neurons. The neuron tuning properties have been randomly selected.\n",
        "\n",
        "The input is a sine wave to show the effects of increasing or decreasing input. As a population, these neurons do a good job of representing a single scalar value. This can be seen by the fact that the input graph and neurons graphs match well."
      ],
      "metadata": {
        "id": "K3Nr9i3_B4tX"
      }
    },
    {
      "cell_type": "code",
      "source": [
        "!pip install nengo"
      ],
      "metadata": {
        "id": "yO3eEqDMB9-3"
      },
      "execution_count": null,
      "outputs": []
    },
    {
      "cell_type": "code",
      "execution_count": null,
      "metadata": {
        "id": "2gCA5-4sByTo"
      },
      "outputs": [],
      "source": [
        "%matplotlib inline\n",
        "import matplotlib.pyplot as plt\n",
        "import numpy as np\n",
        "\n",
        "import nengo\n",
        "from nengo.utils.ensemble import sorted_neurons\n",
        "from nengo.utils.matplotlib import rasterplot"
      ]
    },
    {
      "cell_type": "markdown",
      "source": [
        "**Step 1: Create the neural population**\n",
        "\n",
        "Our model consists of a single population of neurons."
      ],
      "metadata": {
        "id": "QAkBYcByCCGP"
      }
    },
    {
      "cell_type": "code",
      "source": [
        "model = nengo.Network(label=\"Many Neurons\")\n",
        "with model:\n",
        "    # Our ensemble consists of 100 leaky integrate-and-fire neurons,\n",
        "    # representing a one-dimensional signal\n",
        "    A = nengo.Ensemble(100, dimensions=1)"
      ],
      "metadata": {
        "id": "EZnBIhJeCEfn"
      },
      "execution_count": null,
      "outputs": []
    },
    {
      "cell_type": "markdown",
      "source": [
        "**Step 2: Create input for the model**\n",
        "\n",
        "We will use a sine wave as a continuously changing input."
      ],
      "metadata": {
        "id": "EipQNnD4CIEq"
      }
    },
    {
      "cell_type": "code",
      "source": [
        "with model:\n",
        "    sin = nengo.Node(lambda t: np.sin(8 * t))  # Input is a sine"
      ],
      "metadata": {
        "id": "PSUCWPA1CKlJ"
      },
      "execution_count": null,
      "outputs": []
    },
    {
      "cell_type": "markdown",
      "source": [
        "**Step 3: Connect the network elements**"
      ],
      "metadata": {
        "id": "3okdmyDECL5K"
      }
    },
    {
      "cell_type": "code",
      "source": [
        "with model:\n",
        "    # Connect the input to the population\n",
        "    nengo.Connection(sin, A, synapse=0.01)  # 10ms filter"
      ],
      "metadata": {
        "id": "mTFI0H5lCOJC"
      },
      "execution_count": null,
      "outputs": []
    },
    {
      "cell_type": "markdown",
      "source": [
        "**Step 4: Probe outputs**\n",
        "\n",
        "Anything that is probed will collect the data it produces over time, allowing us to analyze and visualize it later."
      ],
      "metadata": {
        "id": "T3FP_kInCRai"
      }
    },
    {
      "cell_type": "code",
      "source": [
        "with model:\n",
        "    sin_probe = nengo.Probe(sin)\n",
        "    A_probe = nengo.Probe(A, synapse=0.01)  # 10ms filter\n",
        "    A_spikes = nengo.Probe(A.neurons)  # Collect the spikes"
      ],
      "metadata": {
        "id": "4gdZLr6qCQCq"
      },
      "execution_count": null,
      "outputs": []
    },
    {
      "cell_type": "markdown",
      "source": [
        "**Step 5: Run the model**"
      ],
      "metadata": {
        "id": "JrPoGbDXCVSe"
      }
    },
    {
      "cell_type": "code",
      "source": [
        "# Create our simulator\n",
        "with nengo.Simulator(model) as sim:\n",
        "    # Run it for 1 second\n",
        "    sim.run(1)"
      ],
      "metadata": {
        "id": "VEcNOVzNCUwK"
      },
      "execution_count": null,
      "outputs": []
    },
    {
      "cell_type": "markdown",
      "source": [
        "**Step 6: Plot the results**"
      ],
      "metadata": {
        "id": "ZInVLNPyCZtY"
      }
    },
    {
      "cell_type": "code",
      "source": [
        "# Plot the decoded output of the ensemble\n",
        "plt.figure()\n",
        "plt.plot(sim.trange(), sim.data[A_probe], label=\"A output\")\n",
        "plt.plot(sim.trange(), sim.data[sin_probe], \"r\", label=\"Input\")\n",
        "plt.xlim(0, 1)\n",
        "plt.legend()\n",
        "\n",
        "# Plot the spiking output of the ensemble\n",
        "plt.figure()\n",
        "rasterplot(sim.trange(), sim.data[A_spikes])\n",
        "plt.xlim(0, 1)"
      ],
      "metadata": {
        "id": "D5Af3M8_CY9A"
      },
      "execution_count": null,
      "outputs": []
    },
    {
      "cell_type": "markdown",
      "source": [
        "The top graph shows the decoded response of the neural spiking. The bottom plot shows the spike raster coming out of every 2nd neuron."
      ],
      "metadata": {
        "id": "I2Xa8Xz_CeQ_"
      }
    },
    {
      "cell_type": "code",
      "source": [
        "# For interest's sake, you can also sort by encoder\n",
        "indices = sorted_neurons(A, sim, iterations=250)\n",
        "plt.figure()\n",
        "rasterplot(sim.trange(), sim.data[A_spikes][:, indices])\n",
        "plt.xlim(0, 1)"
      ],
      "metadata": {
        "id": "9Y698QT6CXUP"
      },
      "execution_count": null,
      "outputs": []
    }
  ]
}