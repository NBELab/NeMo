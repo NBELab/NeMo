{
  "nbformat": 4,
  "nbformat_minor": 0,
  "metadata": {
    "colab": {
      "provenance": [],
      "machine_shape": "hm",
      "authorship_tag": "ABX9TyMqyIVUVoKupqChCx5KAiUr",
      "include_colab_link": true
    },
    "kernelspec": {
      "name": "python3",
      "display_name": "Python 3"
    },
    "language_info": {
      "name": "python"
    }
  },
  "cells": [
    {
      "cell_type": "markdown",
      "metadata": {
        "id": "view-in-github",
        "colab_type": "text"
      },
      "source": [
        "<a href=\"https://colab.research.google.com/github/NBELab/NeMo/blob/main/tutorials/image_input.ipynb\" target=\"_parent\"><img src=\"https://colab.research.google.com/assets/colab-badge.svg\" alt=\"Open In Colab\"/></a>"
      ]
    },
    {
      "cell_type": "code",
      "source": [
        "!pip install nengo"
      ],
      "metadata": {
        "id": "jFOlqM_XWMQt"
      },
      "execution_count": null,
      "outputs": []
    },
    {
      "cell_type": "code",
      "execution_count": 3,
      "metadata": {
        "id": "N5Us2nPeWFU3"
      },
      "outputs": [],
      "source": [
        "import numpy as np\n",
        "import os\n",
        "import matplotlib\n",
        "import matplotlib.pyplot as plt\n",
        "import matplotlib.image as mpimg\n",
        "\n",
        "import nengo\n",
        "from nengo.dists import Uniform"
      ]
    },
    {
      "cell_type": "code",
      "source": [
        "#input images\n",
        "h = 25\n",
        "w = 30\n",
        "image = np.random.randint(0, 256, (h, w), dtype=np.uint8)\n",
        "\n",
        "plt.imshow(image, cmap='gray')\n"
      ],
      "metadata": {
        "id": "J0Grr2P1WfHr"
      },
      "execution_count": null,
      "outputs": []
    },
    {
      "cell_type": "code",
      "source": [
        "\n",
        "gray_input = 1*np.reshape(image/255.0, (1,1,h*w))\n",
        "print(gray_input.shape)\n"
      ],
      "metadata": {
        "id": "4Axm31ttFFQT"
      },
      "execution_count": null,
      "outputs": []
    },
    {
      "cell_type": "code",
      "source": [
        "present_time = 1\n",
        "n = h*w\n",
        "\n",
        "net = nengo.Network(label=\"Image_input\")\n",
        "with net:\n",
        "  gray_node = nengo.Node(nengo.processes.PresentInput(\n",
        "      gray_input, presentation_time=present_time\n",
        "  ))\n",
        "\n",
        "  ens_arr1 = nengo.networks.EnsembleArray(\n",
        "        1,\n",
        "        h*w,\n",
        "        intercepts=Uniform(0, 0),\n",
        "        max_rates=Uniform(200, 200),\n",
        "        encoders=[[1]],\n",
        "        neuron_type=nengo.SpikingRectifiedLinear()\n",
        "    )\n",
        "  ens_arr2 = nengo.networks.EnsembleArray(\n",
        "        5,\n",
        "        h*w,\n",
        "        max_rates=Uniform(100, 200),\n",
        "        neuron_type=nengo.LIF()\n",
        "    )\n",
        "  nengo.Connection(gray_node, ens_arr1.input)\n",
        "  nengo.Connection(gray_node, ens_arr2.input,transform=1)\n",
        "\n",
        "  out1 = nengo.Probe(ens_arr1.output, synapse=0.05)\n",
        "  out2 = nengo.Probe(ens_arr2.output, synapse=0.05)\n",
        "\n",
        "print(net.n_neurons)"
      ],
      "metadata": {
        "colab": {
          "base_uri": "https://localhost:8080/"
        },
        "id": "U5xhu7_EBjl6",
        "outputId": "ef46de82-a3de-49a9-acd6-5f793eb4e51b"
      },
      "execution_count": 43,
      "outputs": [
        {
          "output_type": "stream",
          "name": "stdout",
          "text": [
            "4500\n"
          ]
        }
      ]
    },
    {
      "cell_type": "code",
      "source": [
        "import nengo_ocl\n",
        "runtime = 1 * present_time\n",
        "with nengo.Simulator(net) as sim:\n",
        "#with nengo.Simulator(nengo_converter.net) as sim:\n",
        "    sim.run(runtime)"
      ],
      "metadata": {
        "id": "2iMGxOySEC2D"
      },
      "execution_count": null,
      "outputs": []
    },
    {
      "cell_type": "code",
      "source": [
        "image_out1 = np.reshape(sim.data[out1][-1],(h,w))\n",
        "image_out2 = np.reshape(sim.data[out2][-1],(h,w))\n",
        "\n",
        "\n",
        "plt.figure()\n",
        "plt.imshow(image_out1, cmap = plt.get_cmap('gray'))\n",
        "plt.title('1 SpikingRectifiedLinear')\n",
        "plt.figure()\n",
        "plt.imshow(image_out2, cmap = plt.get_cmap('gray'))\n",
        "plt.title('5 LIF')\n",
        "plt.figure()\n",
        "plt.imshow(image, cmap = plt.get_cmap('gray'))\n",
        "plt.title('original')"
      ],
      "metadata": {
        "id": "8VCtNf-jFUQ0"
      },
      "execution_count": null,
      "outputs": []
    },
    {
      "cell_type": "code",
      "source": [
        "rms_error1 = np.sqrt(np.mean((image_out1 - image/255.0)**2))\n",
        "rms_error2 = np.sqrt(np.mean((image_out2 - image/255.0)**2))\n",
        "\n",
        "print(\"SpikingRectifiedLinear RMSE: \",rms_error1)\n",
        "print(\"LIF RMSE: \", rms_error2)"
      ],
      "metadata": {
        "id": "0W-2ZtCJUdmx"
      },
      "execution_count": null,
      "outputs": []
    }
  ]
}