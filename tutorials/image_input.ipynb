{
  "nbformat": 4,
  "nbformat_minor": 0,
  "metadata": {
    "colab": {
      "provenance": [],
      "include_colab_link": true
    },
    "kernelspec": {
      "name": "python3",
      "display_name": "Python 3"
    },
    "language_info": {
      "name": "python"
    }
  },
  "cells": [
    {
      "cell_type": "markdown",
      "metadata": {
        "id": "view-in-github",
        "colab_type": "text"
      },
      "source": [
        "<a href=\"https://colab.research.google.com/github/NBELab/NeMo/blob/main/tutorials/image_input.ipynb\" target=\"_parent\"><img src=\"https://colab.research.google.com/assets/colab-badge.svg\" alt=\"Open In Colab\"/></a>"
      ]
    },
    {
      "cell_type": "code",
      "execution_count": null,
      "metadata": {
        "id": "Yyop-qaUoqln"
      },
      "outputs": [],
      "source": []
    },
    {
      "cell_type": "code",
      "source": [
        "!pip install nengo"
      ],
      "metadata": {
        "id": "jFOlqM_XWMQt",
        "outputId": "af2c533d-fa74-4c66-aa12-da0f725465d5",
        "colab": {
          "base_uri": "https://localhost:8080/"
        }
      },
      "execution_count": null,
      "outputs": [
        {
          "output_type": "stream",
          "name": "stdout",
          "text": [
            "Collecting nengo\n",
            "  Downloading nengo-4.0.0-py3-none-any.whl.metadata (64 kB)\n",
            "\u001b[?25l     \u001b[90m━━━━━━━━━━━━━━━━━━━━━━━━━━━━━━━━━━━━━━━━\u001b[0m \u001b[32m0.0/64.3 kB\u001b[0m \u001b[31m?\u001b[0m eta \u001b[36m-:--:--\u001b[0m\r\u001b[2K     \u001b[91m━━━━━━━━━━━━━━━━━━━━━━━━━━━━━━━━━━━━━━\u001b[0m\u001b[90m╺\u001b[0m\u001b[90m━\u001b[0m \u001b[32m61.4/64.3 kB\u001b[0m \u001b[31m5.7 MB/s\u001b[0m eta \u001b[36m0:00:01\u001b[0m\r\u001b[2K     \u001b[90m━━━━━━━━━━━━━━━━━━━━━━━━━━━━━━━━━━━━━━━━\u001b[0m \u001b[32m64.3/64.3 kB\u001b[0m \u001b[31m1.1 MB/s\u001b[0m eta \u001b[36m0:00:00\u001b[0m\n",
            "\u001b[?25hRequirement already satisfied: numpy>=1.19 in /usr/local/lib/python3.10/dist-packages (from nengo) (1.26.4)\n",
            "Downloading nengo-4.0.0-py3-none-any.whl (538 kB)\n",
            "\u001b[?25l   \u001b[90m━━━━━━━━━━━━━━━━━━━━━━━━━━━━━━━━━━━━━━━━\u001b[0m \u001b[32m0.0/538.5 kB\u001b[0m \u001b[31m?\u001b[0m eta \u001b[36m-:--:--\u001b[0m\r\u001b[2K   \u001b[91m━━━━━━━━━━━━━━━━━━━\u001b[0m\u001b[91m╸\u001b[0m\u001b[90m━━━━━━━━━━━━━━━━━━━━\u001b[0m \u001b[32m266.2/538.5 kB\u001b[0m \u001b[31m7.9 MB/s\u001b[0m eta \u001b[36m0:00:01\u001b[0m\r\u001b[2K   \u001b[91m━━━━━━━━━━━━━━━━━━━━━━━━━━━━━━━━━━━━━━━\u001b[0m\u001b[91m╸\u001b[0m \u001b[32m532.5/538.5 kB\u001b[0m \u001b[31m10.6 MB/s\u001b[0m eta \u001b[36m0:00:01\u001b[0m\r\u001b[2K   \u001b[90m━━━━━━━━━━━━━━━━━━━━━━━━━━━━━━━━━━━━━━━━\u001b[0m \u001b[32m538.5/538.5 kB\u001b[0m \u001b[31m7.0 MB/s\u001b[0m eta \u001b[36m0:00:00\u001b[0m\n",
            "\u001b[?25hInstalling collected packages: nengo\n",
            "Successfully installed nengo-4.0.0\n"
          ]
        }
      ]
    },
    {
      "cell_type": "code",
      "execution_count": null,
      "metadata": {
        "id": "N5Us2nPeWFU3"
      },
      "outputs": [],
      "source": [
        "import numpy as np\n",
        "import os\n",
        "import matplotlib\n",
        "import matplotlib.pyplot as plt\n",
        "import matplotlib.image as mpimg\n",
        "\n",
        "import nengo\n",
        "from nengo.dists import Uniform"
      ]
    },
    {
      "cell_type": "code",
      "source": [
        "#input images\n",
        "h = 30\n",
        "w = 30\n",
        "#image = np.random.randint(0, 256, (h, w), dtype=np.uint8)\n",
        "\n",
        "\n",
        "# Create an empty image (all black initially)\n",
        "image = np.zeros((h, w), dtype=np.uint8)\n",
        "\n",
        "# Generate gradient\n",
        "for i in range(h):\n",
        "    for j in range(w):\n",
        "        # Calculate grayscale value based on position\n",
        "        #  Moves from 0 (black) at top right to 255 (white) at bottom left\n",
        "        gray_value = int((i / (h - 1)) * 255 + (1 - (j / (w - 1))) * 255 ) /2\n",
        "\n",
        "\n",
        "        # Cap the gray value at 255 to avoid overflow\n",
        "        gray_value = min(gray_value, 255)\n",
        "\n",
        "\n",
        "        image[i, j] = gray_value\n",
        "\n",
        "\n",
        "plt.imshow(image, cmap='gray')\n"
      ],
      "metadata": {
        "id": "J0Grr2P1WfHr",
        "outputId": "17ea7cfd-34b8-42ee-c12d-ec501e084ecc",
        "colab": {
          "base_uri": "https://localhost:8080/",
          "height": 447
        }
      },
      "execution_count": null,
      "outputs": [
        {
          "output_type": "execute_result",
          "data": {
            "text/plain": [
              "<matplotlib.image.AxesImage at 0x7fe0915dda80>"
            ]
          },
          "metadata": {},
          "execution_count": 3
        },
        {
          "output_type": "display_data",
          "data": {
            "text/plain": [
              "<Figure size 640x480 with 1 Axes>"
            ],
            "image/png": "[encoded data removed]"
          },
          "metadata": {}
        }
      ]
    },
    {
      "cell_type": "code",
      "source": [
        "\n",
        "gray_input = 1*np.reshape(image/255.0, (1,1,h*w))\n",
        "print(gray_input.shape)\n"
      ],
      "metadata": {
        "id": "4Axm31ttFFQT",
        "outputId": "74575125-635d-44f5-fe91-c99ef65e95ea",
        "colab": {
          "base_uri": "https://localhost:8080/"
        }
      },
      "execution_count": null,
      "outputs": [
        {
          "metadata": {
            "tags": null
          },
          "name": "stdout",
          "output_type": "stream",
          "text": [
            "(1, 1, 900)\n"
          ]
        }
      ]
    },
    {
      "cell_type": "code",
      "source": [
        "present_time = 1\n",
        "n = h*w\n",
        "\n",
        "net = nengo.Network(label=\"Image_input\")\n",
        "with net:\n",
        "  gray_node = nengo.Node(nengo.processes.PresentInput(\n",
        "      gray_input, presentation_time=present_time\n",
        "  ))\n",
        "\n",
        "  ens_arr1 = nengo.networks.EnsembleArray(\n",
        "        1,\n",
        "        h*w,\n",
        "        intercepts=Uniform(0, 0),\n",
        "        max_rates=Uniform(200, 200),\n",
        "        encoders=[[1]],\n",
        "        neuron_type=nengo.SpikingRectifiedLinear()\n",
        "    )\n",
        "  ens_arr2 = nengo.networks.EnsembleArray(\n",
        "        5,\n",
        "        h*w,\n",
        "        max_rates=Uniform(100, 200),\n",
        "        neuron_type=nengo.LIF()\n",
        "    )\n",
        "  nengo.Connection(gray_node, ens_arr1.input,transform=1)\n",
        "  nengo.Connection(gray_node, ens_arr2.input,transform=1)\n",
        "\n",
        "  out1 = nengo.Probe(ens_arr1.output, synapse=0.05)\n",
        "  out2 = nengo.Probe(ens_arr2.output, synapse=0.05)\n",
        "\n",
        "print(net.n_neurons)"
      ],
      "metadata": {
        "colab": {
          "base_uri": "https://localhost:8080/"
        },
        "id": "U5xhu7_EBjl6",
        "outputId": "a47c04ee-d2a4-474b-f98d-fa513785ba7b"
      },
      "execution_count": null,
      "outputs": [
        {
          "output_type": "stream",
          "name": "stdout",
          "text": [
            "5400\n"
          ]
        }
      ]
    },
    {
      "cell_type": "code",
      "source": [
        "runtime = 1 * present_time\n",
        "with nengo.Simulator(net) as sim:\n",
        "#with nengo.Simulator(nengo_converter.net) as sim:\n",
        "    sim.run(runtime)"
      ],
      "metadata": {
        "id": "2iMGxOySEC2D",
        "colab": {
          "base_uri": "https://localhost:8080/",
          "height": 232
        },
        "outputId": "8579bb33-8d3d-4b21-b6fa-f7f44fb9f27d"
      },
      "execution_count": null,
      "outputs": [
        {
          "output_type": "stream",
          "name": "stderr",
          "text": [
            "ERROR:nengo.cache:Decoder cache index corrupted. Reinitializing cache.\n",
            "Traceback (most recent call last):\n",
            "  File \"/usr/local/lib/python3.10/dist-packages/nengo/cache.py\", line 467, in __enter__\n",
            "    self._load_index_file()\n",
            "  File \"/usr/local/lib/python3.10/dist-packages/nengo/cache.py\", line 389, in _load_index_file\n",
            "    with self.index_path.open(\"rb\") as f:\n",
            "  File \"/usr/lib/python3.10/pathlib.py\", line 1119, in open\n",
            "    return self._accessor.open(self, mode, buffering, encoding, errors,\n",
            "FileNotFoundError: [Errno 2] No such file or directory: '/root/.cache/nengo/decoders/index'\n"
          ]
        },
        {
          "output_type": "display_data",
          "data": {
            "application/vdom.v1+json": {
              "tagName": "div",
              "attributes": {}
            },
            "text/html": [
              "\n",
              "                <script>\n",
              "                    if (Jupyter.version.split(\".\")[0] < 5) {\n",
              "                        var pb = document.getElementById(\"3a8b71cc-a0e3-4afd-ada3-d829452d4253\");\n",
              "                        var text = document.createTextNode(\n",
              "                            \"HTML progress bar requires Jupyter Notebook >= \" +\n",
              "                            \"5.0 or Jupyter Lab. Alternatively, you can use \" +\n",
              "                            \"TerminalProgressBar().\");\n",
              "                        pb.parentNode.insertBefore(text, pb);\n",
              "                    }\n",
              "                </script>\n",
              "                <div id=\"3a8b71cc-a0e3-4afd-ada3-d829452d4253\" style=\"\n",
              "                    width: 100%;\n",
              "                    border: 1px solid #cfcfcf;\n",
              "                    border-radius: 4px;\n",
              "                    text-align: center;\n",
              "                    position: relative;\">\n",
              "                  <div class=\"pb-text\" style=\"\n",
              "                      position: absolute;\n",
              "                      width: 100%;\">\n",
              "                    0%\n",
              "                  </div>\n",
              "                  <div class=\"pb-fill\" style=\"\n",
              "                      background-color: #bdd2e6;\n",
              "                      width: 0%;\">\n",
              "                    <style type=\"text/css\" scoped=\"scoped\">\n",
              "                        @keyframes pb-fill-anim {\n",
              "                            0% { background-position: 0 0; }\n",
              "                            100% { background-position: 100px 0; }\n",
              "                        }\n",
              "                    </style>\n",
              "                    &nbsp;\n",
              "                  </div>\n",
              "                </div>"
            ],
            "text/plain": [
              "HtmlProgressBar cannot be displayed. Please use the TerminalProgressBar. It can be enabled with `nengo.rc['progress']['progress_bar'] = 'nengo.utils.progress.TerminalProgressBar'`."
            ]
          },
          "metadata": {}
        },
        {
          "output_type": "display_data",
          "data": {
            "application/vdom.v1+json": {
              "tagName": "div",
              "attributes": {
                "id": "c120766e-b1ee-47a4-b4a7-5ffc69f7fc7c",
                "style": {
                  "width": "100%",
                  "boxSizing": "border-box",
                  "border": "1px solid #cfcfcf",
                  "borderRadius": "4px",
                  "textAlign": "center",
                  "position": "relative"
                }
              },
              "children": [
                {
                  "tagName": "div",
                  "attributes": {
                    "class": "pb-text",
                    "style": {
                      "position": "absolute",
                      "width": "100%"
                    }
                  },
                  "children": [
                    "Build finished in 0:01:04."
                  ]
                },
                {
                  "tagName": "div",
                  "attributes": {
                    "class": "pb-fill",
                    "style": {
                      "width": "100%",
                      "animation": "none",
                      "backgroundColor": "#bdd2e6",
                      "backgroundSize": "100px 100%",
                      "backgroundImage": "none"
                    }
                  },
                  "children": [
                    {
                      "tagName": "style",
                      "attributes": {
                        "type": "text/css",
                        "scoped": "scoped"
                      },
                      "children": [
                        "\n                        @keyframes pb-fill-anim {\n                            0% { background-position: 0 0; }\n                            100% { background-position: 100px 0; }\n                        }}"
                      ]
                    },
                    " "
                  ]
                }
              ]
            },
            "text/html": [
              "<script>\n",
              "              (function () {\n",
              "                  var root = document.getElementById('3a8b71cc-a0e3-4afd-ada3-d829452d4253');\n",
              "                  var text = root.getElementsByClassName('pb-text')[0];\n",
              "                  var fill = root.getElementsByClassName('pb-fill')[0];\n",
              "\n",
              "                  text.innerHTML = 'Build finished in 0:01:04.';\n",
              "                  \n",
              "            fill.style.width = '100%';\n",
              "            fill.style.animation = 'pb-fill-anim 2s linear infinite';\n",
              "            fill.style.backgroundSize = '100px 100%';\n",
              "            fill.style.backgroundImage = 'repeating-linear-gradient(' +\n",
              "                '90deg, #bdd2e6, #edf2f8 40%, #bdd2e6 80%, #bdd2e6)';\n",
              "        \n",
              "                  \n",
              "                fill.style.animation = 'none';\n",
              "                fill.style.backgroundImage = 'none';\n",
              "            \n",
              "              })();\n",
              "        </script>"
            ]
          },
          "metadata": {}
        },
        {
          "output_type": "display_data",
          "data": {
            "application/vdom.v1+json": {
              "tagName": "div",
              "attributes": {}
            },
            "text/html": [
              "\n",
              "                <script>\n",
              "                    if (Jupyter.version.split(\".\")[0] < 5) {\n",
              "                        var pb = document.getElementById(\"8e9123f0-ffe4-42af-95ad-f0f6679de29c\");\n",
              "                        var text = document.createTextNode(\n",
              "                            \"HTML progress bar requires Jupyter Notebook >= \" +\n",
              "                            \"5.0 or Jupyter Lab. Alternatively, you can use \" +\n",
              "                            \"TerminalProgressBar().\");\n",
              "                        pb.parentNode.insertBefore(text, pb);\n",
              "                    }\n",
              "                </script>\n",
              "                <div id=\"8e9123f0-ffe4-42af-95ad-f0f6679de29c\" style=\"\n",
              "                    width: 100%;\n",
              "                    border: 1px solid #cfcfcf;\n",
              "                    border-radius: 4px;\n",
              "                    text-align: center;\n",
              "                    position: relative;\">\n",
              "                  <div class=\"pb-text\" style=\"\n",
              "                      position: absolute;\n",
              "                      width: 100%;\">\n",
              "                    0%\n",
              "                  </div>\n",
              "                  <div class=\"pb-fill\" style=\"\n",
              "                      background-color: #bdd2e6;\n",
              "                      width: 0%;\">\n",
              "                    <style type=\"text/css\" scoped=\"scoped\">\n",
              "                        @keyframes pb-fill-anim {\n",
              "                            0% { background-position: 0 0; }\n",
              "                            100% { background-position: 100px 0; }\n",
              "                        }\n",
              "                    </style>\n",
              "                    &nbsp;\n",
              "                  </div>\n",
              "                </div>"
            ],
            "text/plain": [
              "HtmlProgressBar cannot be displayed. Please use the TerminalProgressBar. It can be enabled with `nengo.rc['progress']['progress_bar'] = 'nengo.utils.progress.TerminalProgressBar'`."
            ]
          },
          "metadata": {}
        },
        {
          "output_type": "display_data",
          "data": {
            "application/vdom.v1+json": {
              "tagName": "div",
              "attributes": {
                "id": "3962406d-e3a5-4030-8213-c669f443fe43",
                "style": {
                  "width": "100%",
                  "boxSizing": "border-box",
                  "border": "1px solid #cfcfcf",
                  "borderRadius": "4px",
                  "textAlign": "center",
                  "position": "relative"
                }
              },
              "children": [
                {
                  "tagName": "div",
                  "attributes": {
                    "class": "pb-text",
                    "style": {
                      "position": "absolute",
                      "width": "100%"
                    }
                  },
                  "children": [
                    "Simulation finished in 0:00:01."
                  ]
                },
                {
                  "tagName": "div",
                  "attributes": {
                    "class": "pb-fill",
                    "style": {
                      "width": "100%",
                      "animation": "none",
                      "backgroundColor": "#bdd2e6",
                      "backgroundImage": "none",
                      "transition": "width 0.1s linear"
                    }
                  },
                  "children": [
                    {
                      "tagName": "style",
                      "attributes": {
                        "type": "text/css",
                        "scoped": "scoped"
                      },
                      "children": [
                        "\n                        @keyframes pb-fill-anim {\n                            0% { background-position: 0 0; }\n                            100% { background-position: 100px 0; }\n                        }}"
                      ]
                    },
                    " "
                  ]
                }
              ]
            },
            "text/html": [
              "<script>\n",
              "              (function () {\n",
              "                  var root = document.getElementById('8e9123f0-ffe4-42af-95ad-f0f6679de29c');\n",
              "                  var text = root.getElementsByClassName('pb-text')[0];\n",
              "                  var fill = root.getElementsByClassName('pb-fill')[0];\n",
              "\n",
              "                  text.innerHTML = 'Simulation finished in 0:00:01.';\n",
              "                  \n",
              "            if (100.0 > 0.) {\n",
              "                fill.style.transition = 'width 0.1s linear';\n",
              "            } else {\n",
              "                fill.style.transition = 'none';\n",
              "            }\n",
              "\n",
              "            fill.style.width = '100.0%';\n",
              "            fill.style.animation = 'none';\n",
              "            fill.style.backgroundImage = 'none'\n",
              "        \n",
              "                  \n",
              "                fill.style.animation = 'none';\n",
              "                fill.style.backgroundImage = 'none';\n",
              "            \n",
              "              })();\n",
              "        </script>"
            ]
          },
          "metadata": {}
        }
      ]
    },
    {
      "cell_type": "code",
      "source": [
        "image_out1 = np.reshape(sim.data[out1][-1],(h,w))\n",
        "image_out2 = np.reshape(sim.data[out2][-1],(h,w))\n",
        "\n",
        "\n",
        "plt.figure()\n",
        "plt.imshow(image_out1, cmap = plt.get_cmap('gray'))\n",
        "plt.title('1 SpikingRectifiedLinear')\n",
        "plt.figure()\n",
        "plt.imshow(image_out2, cmap = plt.get_cmap('gray'))\n",
        "plt.title('5 LIF')\n",
        "plt.figure()\n",
        "plt.imshow(image, cmap = plt.get_cmap('gray'))\n",
        "plt.title('original')"
      ],
      "metadata": {
        "id": "8VCtNf-jFUQ0"
      },
      "execution_count": null,
      "outputs": []
    },
    {
      "cell_type": "code",
      "source": [
        "rms_error1 = np.sqrt(np.mean((image_out1 - image/255.0)**2))\n",
        "rms_error2 = np.sqrt(np.mean((image_out2 - image/255.0)**2))\n",
        "\n",
        "print(\"SpikingRectifiedLinear RMSE: \",rms_error1)\n",
        "print(\"LIF RMSE: \", rms_error2)"
      ],
      "metadata": {
        "id": "0W-2ZtCJUdmx"
      },
      "execution_count": null,
      "outputs": []
    },
    {
      "cell_type": "markdown",
      "source": [
        "With many neurons:"
      ],
      "metadata": {
        "id": "aOOT2QVXoCqg"
      }
    },
    {
      "cell_type": "code",
      "source": [
        "present_time = 1\n",
        "n = h*w\n",
        "\n",
        "net = nengo.Network(label=\"Image_input\")\n",
        "with net:\n",
        "  gray_node = nengo.Node(nengo.processes.PresentInput(\n",
        "      gray_input, presentation_time=present_time\n",
        "  ))\n",
        "\n",
        "  ens_arr1 = nengo.networks.EnsembleArray(\n",
        "        100,\n",
        "        h*w,\n",
        "        intercepts=Uniform(0, 0),\n",
        "        max_rates=Uniform(100, 200),\n",
        "        #encoders=[[1]],\n",
        "        neuron_type=nengo.SpikingRectifiedLinear()\n",
        "    )\n",
        "  ens_arr2 = nengo.networks.EnsembleArray(\n",
        "        500,\n",
        "        h*w,\n",
        "        max_rates=Uniform(100, 200),\n",
        "        neuron_type=nengo.LIF()\n",
        "    )\n",
        "  nengo.Connection(gray_node, ens_arr1.input,transform=1)\n",
        "  nengo.Connection(gray_node, ens_arr2.input,transform=1)\n",
        "\n",
        "  out1 = nengo.Probe(ens_arr1.output, synapse=0.05)\n",
        "  out2 = nengo.Probe(ens_arr2.output, synapse=0.05)\n",
        "\n",
        "print(net.n_neurons)"
      ],
      "metadata": {
        "id": "_IWDGUZMVhit"
      },
      "execution_count": null,
      "outputs": []
    },
    {
      "cell_type": "code",
      "source": [
        "runtime = 1 * present_time\n",
        "with nengo.Simulator(net) as sim:\n",
        "#with nengo.Simulator(nengo_converter.net) as sim:\n",
        "    sim.run(runtime)"
      ],
      "metadata": {
        "id": "fvzj4wFSVhw5"
      },
      "execution_count": null,
      "outputs": []
    },
    {
      "cell_type": "code",
      "source": [
        "image_out1 = np.reshape(sim.data[out1][-1],(h,w))\n",
        "image_out2 = np.reshape(sim.data[out2][-1],(h,w))\n",
        "\n",
        "\n",
        "plt.figure()\n",
        "plt.imshow(image_out1, cmap = plt.get_cmap('gray'))\n",
        "plt.title('1 SpikingRectifiedLinear')\n",
        "plt.figure()\n",
        "plt.imshow(image_out2, cmap = plt.get_cmap('gray'))\n",
        "plt.title('5 LIF')\n",
        "plt.figure()\n",
        "plt.imshow(image, cmap = plt.get_cmap('gray'))\n",
        "plt.title('original')"
      ],
      "metadata": {
        "id": "MC44vHDPVhw5"
      },
      "execution_count": null,
      "outputs": []
    },
    {
      "cell_type": "code",
      "source": [
        "rms_error1 = np.sqrt(np.mean((image_out1 - image/255.0)**2))\n",
        "rms_error2 = np.sqrt(np.mean((image_out2 - image/255.0)**2))\n",
        "\n",
        "print(\"SpikingRectifiedLinear RMSE: \",rms_error1)\n",
        "print(\"LIF RMSE: \", rms_error2)"
      ],
      "metadata": {
        "id": "2-KziG1nVhw5"
      },
      "execution_count": null,
      "outputs": []
    }
  ]
}